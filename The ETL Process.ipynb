{
 "cells": [
  {
   "cell_type": "markdown",
   "metadata": {},
   "source": [
    "# The ETL Process - Extract (E)"
   ]
  },
  {
   "cell_type": "markdown",
   "metadata": {},
   "source": [
    "We will be performing hands-on data extraction using the following Python libraries for web scraping: \n",
    "\n",
    "- **Requests:** For sending HTTP requests.\n",
    "\n",
    "- **Beautiful Soup:** For parsing HTML content."
   ]
  },
  {
   "cell_type": "markdown",
   "metadata": {},
   "source": [
    "Let us start by installing the above mentioned libraries using Python's package manager (pip)."
   ]
  },
  {
   "cell_type": "code",
   "execution_count": 1,
   "metadata": {},
   "outputs": [],
   "source": [
    "# !pip install requests\n",
    "# !pip install beautifulsoup4 "
   ]
  },
  {
   "cell_type": "markdown",
   "metadata": {},
   "source": [
    "Once the installation has been finished, we can import the libraries in Python using the following import convention."
   ]
  },
  {
   "cell_type": "code",
   "execution_count": 2,
   "metadata": {},
   "outputs": [],
   "source": [
    "# Library import convention\n",
    "import requests\n",
    "from bs4 import BeautifulSoup"
   ]
  },
  {
   "cell_type": "markdown",
   "metadata": {},
   "source": [
    "Now, let us recall the web scraping workflow."
   ]
  },
  {
   "cell_type": "markdown",
   "metadata": {},
   "source": [
    "- **Step 1:** Request the target website for its content.\n",
    "\n",
    "<div ><img src=\"images/scraping_1.PNG\" width=\"500\"></div>\n",
    "\n",
    "- **Step 2:** Receive the HTML content from the target website.\n",
    "\n",
    "<img src=\"images/scraping_2.PNG\" width=\"500\">\n",
    "\n",
    "- **Step 3:** Parse the HTML content and extract the necessary data.\n",
    "\n",
    "<img src=\"images/scraping_3.PNG\" width=\"500\">"
   ]
  },
  {
   "cell_type": "markdown",
   "metadata": {},
   "source": [
    "**The Target Website: Estes Park Weather website**\n",
    "\n",
    "We are using the weather reports data from Estes Park Weather website, where the data is available in a monthly format for each day of the month. For the purpose of this tutorial we are taking the data for the month of May 2020 (in the format 202005).\n",
    "\n",
    "\"https://www.estesparkweather.net/archive_reports.php?date=202005\"\n",
    "\n",
    "<img src=\"images/weather_website.PNG\" width=\"500\">"
   ]
  },
  {
   "cell_type": "markdown",
   "metadata": {},
   "source": [
    "The first step is to send a request to the target website for receiving its content as a response. This can be done using the ```get``` function of the requests library."
   ]
  },
  {
   "cell_type": "code",
   "execution_count": 3,
   "metadata": {},
   "outputs": [
    {
     "name": "stdout",
     "output_type": "stream",
     "text": [
      "<Response [200]>\n"
     ]
    }
   ],
   "source": [
    "# URL of the target website\n",
    "url = \"https://www.estesparkweather.net/archive_reports.php?date=202005\"\n",
    "\n",
    "# Request the target website for its content and get a response back\n",
    "response = requests.get(url)\n",
    "\n",
    "# A 200 response status means a successful response \n",
    "print(response)"
   ]
  },
  {
   "cell_type": "code",
   "execution_count": 4,
   "metadata": {},
   "outputs": [
    {
     "name": "stdout",
     "output_type": "stream",
     "text": [
      "b'<!DOCTYPE html PUBLIC \"-//W3C//DTD XHTML 1.0 Strict//EN\" \"http://www.w3.org/TR/xhtml1/DTD/xhtml1-strict.dtd\">\\n<html xmlns=\"http://www.w3.org/1999/xhtml\">\\n<!-- DW6 -->\\n<head>\\n<!-- Copyright 2005 Macromedia, Inc. All rights reserved. -->\\n<meta http-equiv=\"Refresh\" content=\"300\" />\\n<meta http-equiv=\"Pragma\" content=\"no-cache\" />\\n<meta http-equiv=\"Cache-Control\" content=\"no-cache\" />\\n<meta http-equiv=\"Content-Type\" content=\"text/html; charset=iso-8859-1\" />\\n<meta name=\"ICBM\" content=\"37.27465, -122.'\n"
     ]
    }
   ],
   "source": [
    "# Viewing the first 500 character content of the page\n",
    "print(response.content[:500])"
   ]
  },
  {
   "cell_type": "markdown",
   "metadata": {},
   "source": [
    "After getting the response, we will now parse the received content using the HTML parser from Beautiful Soup."
   ]
  },
  {
   "cell_type": "code",
   "execution_count": 5,
   "metadata": {},
   "outputs": [],
   "source": [
    "# Get page content in the form of HTML using Beautiful Soup's HTML parser\n",
    "soup =  BeautifulSoup(response.content,'html.parser')"
   ]
  },
  {
   "cell_type": "markdown",
   "metadata": {},
   "source": [
    "We can extract data values from the table for the month of May 2020 using the `find_all()` method of Beautiful Soup. "
   ]
  },
  {
   "cell_type": "code",
   "execution_count": 6,
   "metadata": {},
   "outputs": [],
   "source": [
    "# Find all data under the tag 'table'\n",
    "table_data = soup.find_all('table')"
   ]
  },
  {
   "cell_type": "code",
   "execution_count": 7,
   "metadata": {},
   "outputs": [
    {
     "name": "stdout",
     "output_type": "stream",
     "text": [
      "<table border=\"0\" cellpadding=\"3\" cellspacing=\"0\">\n",
      "<tr class=\"table-top\">\n",
      "<td colspan=\"2\">May 1 Average and Extremes</td>\n",
      "</tr>\n",
      "<tr class=\"column-light\">\n",
      "<td>Average temperature</td><td> 57.8°F</td>\n",
      "</tr>\n",
      "<tr class=\"column-dark\">\n",
      "<td>Average humidity</td><td> 45%</td>\n",
      "</tr>\n",
      "<tr class=\"column-light\">\n",
      "<td>Average dewpoint</td><td> 33.9°F</td>\n",
      "</tr>\n",
      "<tr class=\"column-dark\">\n",
      "<td>Average barometer</td><td> 29.6 in.</td>\n",
      "</tr>\n",
      "<tr class=\"column-light\">\n",
      "<td>Average windspeed</td><td> 5.2 mph</td>\n",
      "</tr>\n",
      "<tr class=\"column-dark\">\n",
      "<td>Average gustspeed</td><td> 8.0 mph</td>\n",
      "</tr>\n",
      "<tr class=\"column-light\">\n",
      "<td>Average direction</td><td> 238° (WSW)</td>\n",
      "</tr>\n",
      "<tr class=\"column-dark\">\n",
      "<td>Rainfall for month</td><td> 0.00 in.</td>\n",
      "</tr>\n",
      "<tr class=\"column-light\">\n",
      "<td>Rainfall for year</td><td> 2.40 in.</td>\n",
      "</tr>\n",
      "<tr class=\"column-dark\">\n",
      "<td>Maximum rain per minute</td><td> 0.00 in. on day 01 at time 00:00</td>\n",
      "</tr>\n",
      "<tr class=\"column-light\">\n",
      "<td>Maximum temperature</td><td> 71.8°F on day 01 at time 14:41</td>\n",
      "</tr>\n",
      "<tr class=\"column-dark\">\n",
      "<td>Minimum temperature</td><td> 41.5°F on day 01 at time 06:24</td>\n",
      "</tr>\n",
      "<tr class=\"column-light\">\n",
      "<td>Maximum humidity</td><td> 83% on day 01 at time 00:00</td>\n",
      "</tr>\n",
      "<tr class=\"column-dark\">\n",
      "<td>Minimum humidity</td><td> 19% on day 01 at time 14:07</td>\n",
      "</tr>\n",
      "<tr class=\"column-light\">\n",
      "<td>Maximum pressure</td><td> 29.724 in. on day 01 at time 22:22</td>\n",
      "</tr>\n",
      "<tr class=\"column-dark\">\n",
      "<td>Minimum pressure</td><td> 29.515 in. on day 01 at time 16:13</td>\n",
      "</tr>\n",
      "<tr class=\"column-light\">\n",
      "<td>Maximum windspeed</td><td> 18.4 mph on day 01 at time 21:02</td>\n",
      "</tr>\n",
      "<tr class=\"column-dark\">\n",
      "<td>Maximum gust speed</td><td> 29.9 mph  from 063 °(ENE) on day 01 at time 20:57</td>\n",
      "</tr>\n",
      "<tr class=\"column-light\">\n",
      "<td>Maximum heat index</td><td> 76.6°F on day 01 at time 15:57</td>\n",
      "</tr>\n",
      "</table>\n"
     ]
    }
   ],
   "source": [
    "# Print the first table data\n",
    "print(table_data[0])"
   ]
  },
  {
   "cell_type": "code",
   "execution_count": 8,
   "metadata": {},
   "outputs": [
    {
     "data": {
      "text/plain": [
       "'\\n\\nMay 1 Average and Extremes\\n\\n\\nAverage temperature 57.8°F\\n\\n\\nAverage humidity 45%\\n\\n\\nAverage dewpoint 33.9°F\\n\\n\\nAverage barometer 29.6 in.\\n\\n\\nAverage windspeed 5.2 mph\\n\\n\\nAverage gustspeed 8.0 mph\\n\\n\\nAverage direction 238° (WSW)\\n\\n\\nRainfall for month 0.00 in.\\n\\n\\nRainfall for year 2.40 in.\\n\\n\\nMaximum rain per minute 0.00 in. on day 01 at time 00:00\\n\\n\\nMaximum temperature 71.8°F on day 01 at time 14:41\\n\\n\\nMinimum temperature 41.5°F on day 01 at time 06:24\\n\\n\\nMaximum humidity 83% on day 01 at time 00:00\\n\\n\\nMinimum humidity 19% on day 01 at time 14:07\\n\\n\\nMaximum pressure 29.724 in. on day 01 at time 22:22\\n\\n\\nMinimum pressure 29.515 in. on day 01 at time 16:13\\n\\n\\nMaximum windspeed 18.4 mph on day 01 at time 21:02\\n\\n\\nMaximum gust speed 29.9 mph  from 063 °(ENE) on day 01 at time 20:57\\n\\n\\nMaximum heat index 76.6°F on day 01 at time 15:57\\n\\n'"
      ]
     },
     "execution_count": 8,
     "metadata": {},
     "output_type": "execute_result"
    }
   ],
   "source": [
    "# Get the text from the table data\n",
    "table_data[0].text"
   ]
  },
  {
   "cell_type": "markdown",
   "metadata": {},
   "source": [
    "The text data is essentially a large string which is hard to read."
   ]
  },
  {
   "cell_type": "markdown",
   "metadata": {},
   "source": [
    "# The ETL Process - Transform (T)"
   ]
  },
  {
   "cell_type": "markdown",
   "metadata": {},
   "source": [
    "Next, we will learn how to transform the data to make it proper enough for loading into the data warehouse (in our case, a database).\n",
    "\n",
    "We will be performing hands-on transformation using the following Python libraries: \n",
    "\n",
    "- **Re:** For string matching using Regular expressions.\n",
    "\n",
    "- **Datetime:** For date manipulation."
   ]
  },
  {
   "cell_type": "markdown",
   "metadata": {},
   "source": [
    "We can import the libraries in Python using the following import convention."
   ]
  },
  {
   "cell_type": "code",
   "execution_count": 9,
   "metadata": {},
   "outputs": [],
   "source": [
    "# Library import convention\n",
    "import re\n",
    "from datetime import datetime"
   ]
  },
  {
   "cell_type": "markdown",
   "metadata": {},
   "source": [
    "We left off the last lesson at the point where we viewed the data from one of the tables we extracted from the parsed HTML."
   ]
  },
  {
   "cell_type": "code",
   "execution_count": 10,
   "metadata": {},
   "outputs": [
    {
     "data": {
      "text/plain": [
       "'\\n\\nMay 1 Average and Extremes\\n\\n\\nAverage temperature 57.8°F\\n\\n\\nAverage humidity 45%\\n\\n\\nAverage dewpoint 33.9°F\\n\\n\\nAverage barometer 29.6 in.\\n\\n\\nAverage windspeed 5.2 mph\\n\\n\\nAverage gustspeed 8.0 mph\\n\\n\\nAverage direction 238° (WSW)\\n\\n\\nRainfall for month 0.00 in.\\n\\n\\nRainfall for year 2.40 in.\\n\\n\\nMaximum rain per minute 0.00 in. on day 01 at time 00:00\\n\\n\\nMaximum temperature 71.8°F on day 01 at time 14:41\\n\\n\\nMinimum temperature 41.5°F on day 01 at time 06:24\\n\\n\\nMaximum humidity 83% on day 01 at time 00:00\\n\\n\\nMinimum humidity 19% on day 01 at time 14:07\\n\\n\\nMaximum pressure 29.724 in. on day 01 at time 22:22\\n\\n\\nMinimum pressure 29.515 in. on day 01 at time 16:13\\n\\n\\nMaximum windspeed 18.4 mph on day 01 at time 21:02\\n\\n\\nMaximum gust speed 29.9 mph  from 063 °(ENE) on day 01 at time 20:57\\n\\n\\nMaximum heat index 76.6°F on day 01 at time 15:57\\n\\n'"
      ]
     },
     "execution_count": 10,
     "metadata": {},
     "output_type": "execute_result"
    }
   ],
   "source": [
    "# Get the text from the table data\n",
    "table_data[0].text"
   ]
  },
  {
   "cell_type": "markdown",
   "metadata": {},
   "source": [
    "Without cleaning the data, it would be really difficult to load it into the database. Let us transform the data and change it into a suitable format."
   ]
  },
  {
   "cell_type": "markdown",
   "metadata": {},
   "source": [
    "The text contains a lot of new line strings denoted by \\n. So we will be filtering them to get only the required data."
   ]
  },
  {
   "cell_type": "code",
   "execution_count": 11,
   "metadata": {},
   "outputs": [
    {
     "data": {
      "text/plain": [
       "['May 1 Average and Extremes',\n",
       " 'Average temperature 57.8°F',\n",
       " 'Average humidity 45%',\n",
       " 'Average dewpoint 33.9°F',\n",
       " 'Average barometer 29.6 in.',\n",
       " 'Average windspeed 5.2 mph',\n",
       " 'Average gustspeed 8.0 mph',\n",
       " 'Average direction 238° (WSW)',\n",
       " 'Rainfall for month 0.00 in.',\n",
       " 'Rainfall for year 2.40 in.',\n",
       " 'Maximum rain per minute 0.00 in. on day 01 at time 00:00',\n",
       " 'Maximum temperature 71.8°F on day 01 at time 14:41',\n",
       " 'Minimum temperature 41.5°F on day 01 at time 06:24',\n",
       " 'Maximum humidity 83% on day 01 at time 00:00',\n",
       " 'Minimum humidity 19% on day 01 at time 14:07',\n",
       " 'Maximum pressure 29.724 in. on day 01 at time 22:22',\n",
       " 'Minimum pressure 29.515 in. on day 01 at time 16:13',\n",
       " 'Maximum windspeed 18.4 mph on day 01 at time 21:02',\n",
       " 'Maximum gust speed 29.9 mph  from 063 °(ENE) on day 01 at time 20:57',\n",
       " 'Maximum heat index 76.6°F on day 01 at time 15:57']"
      ]
     },
     "execution_count": 11,
     "metadata": {},
     "output_type": "execute_result"
    }
   ],
   "source": [
    "# Filter and remove the empty strings in the list\n",
    "list(filter(None, table_data[0].text.splitlines()))"
   ]
  },
  {
   "cell_type": "markdown",
   "metadata": {},
   "source": [
    "This is the data for May 1."
   ]
  },
  {
   "cell_type": "markdown",
   "metadata": {},
   "source": [
    "Since we want to extract the data for the entire month of May, let us do the same for every day of the month and save it as a nested list."
   ]
  },
  {
   "cell_type": "markdown",
   "metadata": {},
   "source": [
    "[[Data for May 1], [Data for May 2], ... [Data for May 31]]"
   ]
  },
  {
   "cell_type": "code",
   "execution_count": 12,
   "metadata": {},
   "outputs": [],
   "source": [
    "# Split the data and save as a list\n",
    "outer_data_list = []\n",
    "\n",
    "# Looping through each day's data\n",
    "for data in table_data[:31]:\n",
    "    \n",
    "    # Get filtered value without empty strings\n",
    "    value = list(filter(None, data.text.splitlines()))\n",
    "    \n",
    "    # Append each day values to the list\n",
    "    outer_data_list.append(value)"
   ]
  },
  {
   "cell_type": "code",
   "execution_count": 13,
   "metadata": {},
   "outputs": [
    {
     "data": {
      "text/plain": [
       "['May 1 Average and Extremes',\n",
       " 'Average temperature 57.8°F',\n",
       " 'Average humidity 45%',\n",
       " 'Average dewpoint 33.9°F',\n",
       " 'Average barometer 29.6 in.',\n",
       " 'Average windspeed 5.2 mph',\n",
       " 'Average gustspeed 8.0 mph',\n",
       " 'Average direction 238° (WSW)',\n",
       " 'Rainfall for month 0.00 in.',\n",
       " 'Rainfall for year 2.40 in.',\n",
       " 'Maximum rain per minute 0.00 in. on day 01 at time 00:00',\n",
       " 'Maximum temperature 71.8°F on day 01 at time 14:41',\n",
       " 'Minimum temperature 41.5°F on day 01 at time 06:24',\n",
       " 'Maximum humidity 83% on day 01 at time 00:00',\n",
       " 'Minimum humidity 19% on day 01 at time 14:07',\n",
       " 'Maximum pressure 29.724 in. on day 01 at time 22:22',\n",
       " 'Minimum pressure 29.515 in. on day 01 at time 16:13',\n",
       " 'Maximum windspeed 18.4 mph on day 01 at time 21:02',\n",
       " 'Maximum gust speed 29.9 mph  from 063 °(ENE) on day 01 at time 20:57',\n",
       " 'Maximum heat index 76.6°F on day 01 at time 15:57']"
      ]
     },
     "execution_count": 13,
     "metadata": {},
     "output_type": "execute_result"
    }
   ],
   "source": [
    "outer_data_list[0]"
   ]
  },
  {
   "cell_type": "markdown",
   "metadata": {},
   "source": [
    "To get the numerical value of the data from the list of strings, we will have to perform string matching using regular expression.\n",
    "\n",
    "As an example, let us see how we can match a string using a regular expression by taking only a single string element from the list of strings. In this case, we are taking the element at index 10."
   ]
  },
  {
   "cell_type": "code",
   "execution_count": 14,
   "metadata": {},
   "outputs": [
    {
     "data": {
      "text/plain": [
       "'Maximum rain per minute 0.00 in. on day 01 at time 00:00'"
      ]
     },
     "execution_count": 14,
     "metadata": {},
     "output_type": "execute_result"
    }
   ],
   "source": [
    "outer_data_list[0][10]"
   ]
  },
  {
   "cell_type": "markdown",
   "metadata": {},
   "source": [
    "Since we are only concerned about the data for the 'Maximum rain per minute', let us only select the first five words."
   ]
  },
  {
   "cell_type": "code",
   "execution_count": 15,
   "metadata": {},
   "outputs": [
    {
     "data": {
      "text/plain": [
       "['Maximum', 'rain', 'per', 'minute', '0.00']"
      ]
     },
     "execution_count": 15,
     "metadata": {},
     "output_type": "execute_result"
    }
   ],
   "source": [
    "outer_data_list[0][10].split()[:5]"
   ]
  },
  {
   "cell_type": "markdown",
   "metadata": {},
   "source": [
    "We can now use the findall() function of the regular expression library to find decimal values in the string."
   ]
  },
  {
   "cell_type": "code",
   "execution_count": 16,
   "metadata": {},
   "outputs": [
    {
     "data": {
      "text/plain": [
       "['0', '00']"
      ]
     },
     "execution_count": 16,
     "metadata": {},
     "output_type": "execute_result"
    }
   ],
   "source": [
    "# Use regex to find the digits from the string \n",
    "re.findall(\"\\d+\",str(outer_data_list[0][10].split()[:5]))"
   ]
  },
  {
   "cell_type": "markdown",
   "metadata": {},
   "source": [
    "Let us convert the decimal values as it was before."
   ]
  },
  {
   "cell_type": "code",
   "execution_count": 17,
   "metadata": {},
   "outputs": [
    {
     "data": {
      "text/plain": [
       "'0.00'"
      ]
     },
     "execution_count": 17,
     "metadata": {},
     "output_type": "execute_result"
    }
   ],
   "source": [
    "# Join the strings with a decimal\n",
    "'.'.join(re.findall(\"\\d+\",str(outer_data_list[0][10].split()[:5])))"
   ]
  },
  {
   "cell_type": "markdown",
   "metadata": {},
   "source": [
    "Finally, we will now get the data values for each day of the month May like we did above and save them into different list formats along with the corresponding dates."
   ]
  },
  {
   "cell_type": "markdown",
   "metadata": {},
   "source": [
    "[[Numeric Values List for May 1], \n",
    "\n",
    "[Numeric Values List for May 2], ..., \n",
    "\n",
    "[Numeric Values List for May 31] ]"
   ]
  },
  {
   "cell_type": "code",
   "execution_count": 18,
   "metadata": {},
   "outputs": [],
   "source": [
    "# List to hold data values for each day\n",
    "day_data_list = []\n",
    "\n",
    "# Looping through each day\n",
    "for i in outer_data_list:\n",
    "    \n",
    "    # List to hold numeric values\n",
    "    numeric_values = []\n",
    "\n",
    "    # Looping through all the data elements of each day\n",
    "    for day_data in i[1:]:\n",
    "        \n",
    "        # Parse the text to get only digits\n",
    "        d = '.'.join(re.findall(\"\\d+\",str(day_data.split()[:5])))\n",
    "        \n",
    "        # Appending to the numeric values list\n",
    "        numeric_values.append(d)\n",
    "    \n",
    "    # Appending to the data values for each day\n",
    "    day_data_list.append(numeric_values)"
   ]
  },
  {
   "cell_type": "markdown",
   "metadata": {},
   "source": [
    "Now, we will be storing the data into a dataframe for easy loading into a database."
   ]
  },
  {
   "cell_type": "markdown",
   "metadata": {},
   "source": [
    "Let us install the [Pandas](https://pandas.pydata.org/) library for data manipulation. Pandas is a fast, powerful, flexible, high-level data analysis and manipulation tool, that is built on top of the Python programming language. You can learn more about it [here](https://www.theclickreader.com/courses/learn-pandas-for-data-science/)."
   ]
  },
  {
   "cell_type": "code",
   "execution_count": 20,
   "metadata": {},
   "outputs": [],
   "source": [
    "# !pip install pandas"
   ]
  },
  {
   "cell_type": "markdown",
   "metadata": {},
   "source": [
    "We can then import it as pd."
   ]
  },
  {
   "cell_type": "code",
   "execution_count": 21,
   "metadata": {},
   "outputs": [],
   "source": [
    "import pandas as pd"
   ]
  },
  {
   "cell_type": "markdown",
   "metadata": {},
   "source": [
    "A **DataFrame** is a 2-dimensional labeled data structure in Pandas which is similar to a table. It contains rows and columns of different types of data. \n",
    "\n",
    "We will first get all the column names from the website and save it as a list named columns for our dataframe.\n",
    "\n",
    "<img src=\"images/weather_website.PNG\" width=\"500\">"
   ]
  },
  {
   "cell_type": "code",
   "execution_count": 22,
   "metadata": {},
   "outputs": [],
   "source": [
    "# Name of the columns as per the website\n",
    "columns = ['Average temperature', 'Average humidity', 'Average dewpoint', 'Average barometer', 'Average windspeed', 'Average gustspeed', 'Average direction', 'Rainfall for month', 'Rainfall for year', 'Maximum rain per minute', 'Maximum temperature', 'Minimum temperature', 'Maximum humidity', \n",
    "           'Minimum humidity', 'Maximum pressure', 'Minimum pressure', 'Maximum windspeed', 'Maximum gust speed', 'Maximum heat index']"
   ]
  },
  {
   "cell_type": "markdown",
   "metadata": {},
   "source": [
    "Let us now create the dataframe by adding our ```data_list``` as the data and ```columns``` as the columns of the dataframe."
   ]
  },
  {
   "cell_type": "code",
   "execution_count": 23,
   "metadata": {},
   "outputs": [],
   "source": [
    "# Create a pandas dataframe with the data\n",
    "weather_data = pd.DataFrame(day_data_list, columns = columns)"
   ]
  },
  {
   "cell_type": "code",
   "execution_count": 24,
   "metadata": {},
   "outputs": [
    {
     "data": {
      "text/html": [
       "<div>\n",
       "<style scoped>\n",
       "    .dataframe tbody tr th:only-of-type {\n",
       "        vertical-align: middle;\n",
       "    }\n",
       "\n",
       "    .dataframe tbody tr th {\n",
       "        vertical-align: top;\n",
       "    }\n",
       "\n",
       "    .dataframe thead th {\n",
       "        text-align: right;\n",
       "    }\n",
       "</style>\n",
       "<table border=\"1\" class=\"dataframe\">\n",
       "  <thead>\n",
       "    <tr style=\"text-align: right;\">\n",
       "      <th></th>\n",
       "      <th>Average temperature</th>\n",
       "      <th>Average humidity</th>\n",
       "      <th>Average dewpoint</th>\n",
       "      <th>Average barometer</th>\n",
       "      <th>Average windspeed</th>\n",
       "      <th>Average gustspeed</th>\n",
       "      <th>Average direction</th>\n",
       "      <th>Rainfall for month</th>\n",
       "      <th>Rainfall for year</th>\n",
       "      <th>Maximum rain per minute</th>\n",
       "      <th>Maximum temperature</th>\n",
       "      <th>Minimum temperature</th>\n",
       "      <th>Maximum humidity</th>\n",
       "      <th>Minimum humidity</th>\n",
       "      <th>Maximum pressure</th>\n",
       "      <th>Minimum pressure</th>\n",
       "      <th>Maximum windspeed</th>\n",
       "      <th>Maximum gust speed</th>\n",
       "      <th>Maximum heat index</th>\n",
       "    </tr>\n",
       "  </thead>\n",
       "  <tbody>\n",
       "    <tr>\n",
       "      <th>0</th>\n",
       "      <td>57.8</td>\n",
       "      <td>45</td>\n",
       "      <td>33.9</td>\n",
       "      <td>29.6</td>\n",
       "      <td>5.2</td>\n",
       "      <td>8.0</td>\n",
       "      <td>238</td>\n",
       "      <td>0.00</td>\n",
       "      <td>2.40</td>\n",
       "      <td>0.00</td>\n",
       "      <td>71.8</td>\n",
       "      <td>41.5</td>\n",
       "      <td>83</td>\n",
       "      <td>19</td>\n",
       "      <td>29.724</td>\n",
       "      <td>29.515</td>\n",
       "      <td>18.4</td>\n",
       "      <td>29.9</td>\n",
       "      <td>76.6</td>\n",
       "    </tr>\n",
       "    <tr>\n",
       "      <th>1</th>\n",
       "      <td>47.1</td>\n",
       "      <td>83</td>\n",
       "      <td>42.0</td>\n",
       "      <td>29.7</td>\n",
       "      <td>3.1</td>\n",
       "      <td>5.0</td>\n",
       "      <td>16</td>\n",
       "      <td>0.30</td>\n",
       "      <td>2.70</td>\n",
       "      <td>0.02</td>\n",
       "      <td>57.3</td>\n",
       "      <td>39.9</td>\n",
       "      <td>95</td>\n",
       "      <td>60</td>\n",
       "      <td>29.881</td>\n",
       "      <td>29.666</td>\n",
       "      <td>15.0</td>\n",
       "      <td>19.6</td>\n",
       "      <td>57.3</td>\n",
       "    </tr>\n",
       "    <tr>\n",
       "      <th>2</th>\n",
       "      <td>51.6</td>\n",
       "      <td>59</td>\n",
       "      <td>36.4</td>\n",
       "      <td>29.7</td>\n",
       "      <td>4.9</td>\n",
       "      <td>7.5</td>\n",
       "      <td>244</td>\n",
       "      <td>0.33</td>\n",
       "      <td>2.73</td>\n",
       "      <td>0.01</td>\n",
       "      <td>65.4</td>\n",
       "      <td>36.1</td>\n",
       "      <td>93</td>\n",
       "      <td>29</td>\n",
       "      <td>29.876</td>\n",
       "      <td>29.620</td>\n",
       "      <td>19.6</td>\n",
       "      <td>26.5</td>\n",
       "      <td>65.4</td>\n",
       "    </tr>\n",
       "    <tr>\n",
       "      <th>3</th>\n",
       "      <td>45.1</td>\n",
       "      <td>58</td>\n",
       "      <td>28.9</td>\n",
       "      <td>29.8</td>\n",
       "      <td>7.6</td>\n",
       "      <td>11.8</td>\n",
       "      <td>248</td>\n",
       "      <td>0.37</td>\n",
       "      <td>2.77</td>\n",
       "      <td>0.01</td>\n",
       "      <td>52.2</td>\n",
       "      <td>38.5</td>\n",
       "      <td>94</td>\n",
       "      <td>28</td>\n",
       "      <td>30.024</td>\n",
       "      <td>29.604</td>\n",
       "      <td>25.3</td>\n",
       "      <td>36.8</td>\n",
       "      <td>52.2</td>\n",
       "    </tr>\n",
       "    <tr>\n",
       "      <th>4</th>\n",
       "      <td>48.7</td>\n",
       "      <td>24</td>\n",
       "      <td>12.2</td>\n",
       "      <td>30.0</td>\n",
       "      <td>6.3</td>\n",
       "      <td>9.7</td>\n",
       "      <td>241</td>\n",
       "      <td>0.37</td>\n",
       "      <td>2.77</td>\n",
       "      <td>0.00</td>\n",
       "      <td>62.3</td>\n",
       "      <td>37.9</td>\n",
       "      <td>50</td>\n",
       "      <td>12</td>\n",
       "      <td>30.128</td>\n",
       "      <td>29.942</td>\n",
       "      <td>18.4</td>\n",
       "      <td>26.5</td>\n",
       "      <td>62.3</td>\n",
       "    </tr>\n",
       "  </tbody>\n",
       "</table>\n",
       "</div>"
      ],
      "text/plain": [
       "  Average temperature Average humidity Average dewpoint Average barometer  \\\n",
       "0                57.8               45             33.9              29.6   \n",
       "1                47.1               83             42.0              29.7   \n",
       "2                51.6               59             36.4              29.7   \n",
       "3                45.1               58             28.9              29.8   \n",
       "4                48.7               24             12.2              30.0   \n",
       "\n",
       "  Average windspeed Average gustspeed Average direction Rainfall for month  \\\n",
       "0               5.2               8.0               238               0.00   \n",
       "1               3.1               5.0                16               0.30   \n",
       "2               4.9               7.5               244               0.33   \n",
       "3               7.6              11.8               248               0.37   \n",
       "4               6.3               9.7               241               0.37   \n",
       "\n",
       "  Rainfall for year Maximum rain per minute Maximum temperature  \\\n",
       "0              2.40                    0.00                71.8   \n",
       "1              2.70                    0.02                57.3   \n",
       "2              2.73                    0.01                65.4   \n",
       "3              2.77                    0.01                52.2   \n",
       "4              2.77                    0.00                62.3   \n",
       "\n",
       "  Minimum temperature Maximum humidity Minimum humidity Maximum pressure  \\\n",
       "0                41.5               83               19           29.724   \n",
       "1                39.9               95               60           29.881   \n",
       "2                36.1               93               29           29.876   \n",
       "3                38.5               94               28           30.024   \n",
       "4                37.9               50               12           30.128   \n",
       "\n",
       "  Minimum pressure Maximum windspeed Maximum gust speed Maximum heat index  \n",
       "0           29.515              18.4               29.9               76.6  \n",
       "1           29.666              15.0               19.6               57.3  \n",
       "2           29.620              19.6               26.5               65.4  \n",
       "3           29.604              25.3               36.8               52.2  \n",
       "4           29.942              18.4               26.5               62.3  "
      ]
     },
     "execution_count": 24,
     "metadata": {},
     "output_type": "execute_result"
    }
   ],
   "source": [
    "weather_data.head()"
   ]
  },
  {
   "cell_type": "markdown",
   "metadata": {},
   "source": [
    "Similarly, the date list that we created can be simply added as a new column named \"Date\" to the dataframe as follows."
   ]
  },
  {
   "cell_type": "code",
   "execution_count": 25,
   "metadata": {},
   "outputs": [],
   "source": [
    "# Add a new column with the date values\n",
    "weather_data['Date'] = pd.date_range('2020-05-01', '2020-05-31')"
   ]
  },
  {
   "cell_type": "code",
   "execution_count": 26,
   "metadata": {},
   "outputs": [
    {
     "data": {
      "text/html": [
       "<div>\n",
       "<style scoped>\n",
       "    .dataframe tbody tr th:only-of-type {\n",
       "        vertical-align: middle;\n",
       "    }\n",
       "\n",
       "    .dataframe tbody tr th {\n",
       "        vertical-align: top;\n",
       "    }\n",
       "\n",
       "    .dataframe thead th {\n",
       "        text-align: right;\n",
       "    }\n",
       "</style>\n",
       "<table border=\"1\" class=\"dataframe\">\n",
       "  <thead>\n",
       "    <tr style=\"text-align: right;\">\n",
       "      <th></th>\n",
       "      <th>Average temperature</th>\n",
       "      <th>Average humidity</th>\n",
       "      <th>Average dewpoint</th>\n",
       "      <th>Average barometer</th>\n",
       "      <th>Average windspeed</th>\n",
       "      <th>Average gustspeed</th>\n",
       "      <th>Average direction</th>\n",
       "      <th>Rainfall for month</th>\n",
       "      <th>Rainfall for year</th>\n",
       "      <th>Maximum rain per minute</th>\n",
       "      <th>Maximum temperature</th>\n",
       "      <th>Minimum temperature</th>\n",
       "      <th>Maximum humidity</th>\n",
       "      <th>Minimum humidity</th>\n",
       "      <th>Maximum pressure</th>\n",
       "      <th>Minimum pressure</th>\n",
       "      <th>Maximum windspeed</th>\n",
       "      <th>Maximum gust speed</th>\n",
       "      <th>Maximum heat index</th>\n",
       "      <th>Date</th>\n",
       "    </tr>\n",
       "  </thead>\n",
       "  <tbody>\n",
       "    <tr>\n",
       "      <th>0</th>\n",
       "      <td>57.8</td>\n",
       "      <td>45</td>\n",
       "      <td>33.9</td>\n",
       "      <td>29.6</td>\n",
       "      <td>5.2</td>\n",
       "      <td>8.0</td>\n",
       "      <td>238</td>\n",
       "      <td>0.00</td>\n",
       "      <td>2.40</td>\n",
       "      <td>0.00</td>\n",
       "      <td>71.8</td>\n",
       "      <td>41.5</td>\n",
       "      <td>83</td>\n",
       "      <td>19</td>\n",
       "      <td>29.724</td>\n",
       "      <td>29.515</td>\n",
       "      <td>18.4</td>\n",
       "      <td>29.9</td>\n",
       "      <td>76.6</td>\n",
       "      <td>2020-05-01</td>\n",
       "    </tr>\n",
       "    <tr>\n",
       "      <th>1</th>\n",
       "      <td>47.1</td>\n",
       "      <td>83</td>\n",
       "      <td>42.0</td>\n",
       "      <td>29.7</td>\n",
       "      <td>3.1</td>\n",
       "      <td>5.0</td>\n",
       "      <td>16</td>\n",
       "      <td>0.30</td>\n",
       "      <td>2.70</td>\n",
       "      <td>0.02</td>\n",
       "      <td>57.3</td>\n",
       "      <td>39.9</td>\n",
       "      <td>95</td>\n",
       "      <td>60</td>\n",
       "      <td>29.881</td>\n",
       "      <td>29.666</td>\n",
       "      <td>15.0</td>\n",
       "      <td>19.6</td>\n",
       "      <td>57.3</td>\n",
       "      <td>2020-05-02</td>\n",
       "    </tr>\n",
       "    <tr>\n",
       "      <th>2</th>\n",
       "      <td>51.6</td>\n",
       "      <td>59</td>\n",
       "      <td>36.4</td>\n",
       "      <td>29.7</td>\n",
       "      <td>4.9</td>\n",
       "      <td>7.5</td>\n",
       "      <td>244</td>\n",
       "      <td>0.33</td>\n",
       "      <td>2.73</td>\n",
       "      <td>0.01</td>\n",
       "      <td>65.4</td>\n",
       "      <td>36.1</td>\n",
       "      <td>93</td>\n",
       "      <td>29</td>\n",
       "      <td>29.876</td>\n",
       "      <td>29.620</td>\n",
       "      <td>19.6</td>\n",
       "      <td>26.5</td>\n",
       "      <td>65.4</td>\n",
       "      <td>2020-05-03</td>\n",
       "    </tr>\n",
       "    <tr>\n",
       "      <th>3</th>\n",
       "      <td>45.1</td>\n",
       "      <td>58</td>\n",
       "      <td>28.9</td>\n",
       "      <td>29.8</td>\n",
       "      <td>7.6</td>\n",
       "      <td>11.8</td>\n",
       "      <td>248</td>\n",
       "      <td>0.37</td>\n",
       "      <td>2.77</td>\n",
       "      <td>0.01</td>\n",
       "      <td>52.2</td>\n",
       "      <td>38.5</td>\n",
       "      <td>94</td>\n",
       "      <td>28</td>\n",
       "      <td>30.024</td>\n",
       "      <td>29.604</td>\n",
       "      <td>25.3</td>\n",
       "      <td>36.8</td>\n",
       "      <td>52.2</td>\n",
       "      <td>2020-05-04</td>\n",
       "    </tr>\n",
       "    <tr>\n",
       "      <th>4</th>\n",
       "      <td>48.7</td>\n",
       "      <td>24</td>\n",
       "      <td>12.2</td>\n",
       "      <td>30.0</td>\n",
       "      <td>6.3</td>\n",
       "      <td>9.7</td>\n",
       "      <td>241</td>\n",
       "      <td>0.37</td>\n",
       "      <td>2.77</td>\n",
       "      <td>0.00</td>\n",
       "      <td>62.3</td>\n",
       "      <td>37.9</td>\n",
       "      <td>50</td>\n",
       "      <td>12</td>\n",
       "      <td>30.128</td>\n",
       "      <td>29.942</td>\n",
       "      <td>18.4</td>\n",
       "      <td>26.5</td>\n",
       "      <td>62.3</td>\n",
       "      <td>2020-05-05</td>\n",
       "    </tr>\n",
       "  </tbody>\n",
       "</table>\n",
       "</div>"
      ],
      "text/plain": [
       "  Average temperature Average humidity Average dewpoint Average barometer  \\\n",
       "0                57.8               45             33.9              29.6   \n",
       "1                47.1               83             42.0              29.7   \n",
       "2                51.6               59             36.4              29.7   \n",
       "3                45.1               58             28.9              29.8   \n",
       "4                48.7               24             12.2              30.0   \n",
       "\n",
       "  Average windspeed Average gustspeed Average direction Rainfall for month  \\\n",
       "0               5.2               8.0               238               0.00   \n",
       "1               3.1               5.0                16               0.30   \n",
       "2               4.9               7.5               244               0.33   \n",
       "3               7.6              11.8               248               0.37   \n",
       "4               6.3               9.7               241               0.37   \n",
       "\n",
       "  Rainfall for year Maximum rain per minute Maximum temperature  \\\n",
       "0              2.40                    0.00                71.8   \n",
       "1              2.70                    0.02                57.3   \n",
       "2              2.73                    0.01                65.4   \n",
       "3              2.77                    0.01                52.2   \n",
       "4              2.77                    0.00                62.3   \n",
       "\n",
       "  Minimum temperature Maximum humidity Minimum humidity Maximum pressure  \\\n",
       "0                41.5               83               19           29.724   \n",
       "1                39.9               95               60           29.881   \n",
       "2                36.1               93               29           29.876   \n",
       "3                38.5               94               28           30.024   \n",
       "4                37.9               50               12           30.128   \n",
       "\n",
       "  Minimum pressure Maximum windspeed Maximum gust speed Maximum heat index  \\\n",
       "0           29.515              18.4               29.9               76.6   \n",
       "1           29.666              15.0               19.6               57.3   \n",
       "2           29.620              19.6               26.5               65.4   \n",
       "3           29.604              25.3               36.8               52.2   \n",
       "4           29.942              18.4               26.5               62.3   \n",
       "\n",
       "        Date  \n",
       "0 2020-05-01  \n",
       "1 2020-05-02  \n",
       "2 2020-05-03  \n",
       "3 2020-05-04  \n",
       "4 2020-05-05  "
      ]
     },
     "execution_count": 26,
     "metadata": {},
     "output_type": "execute_result"
    }
   ],
   "source": [
    "# View the data\n",
    "weather_data.head()"
   ]
  },
  {
   "cell_type": "code",
   "execution_count": 27,
   "metadata": {},
   "outputs": [],
   "source": [
    "# Convert data into numeric\n",
    "weather_data[columns] = weather_data[columns].apply(pd.to_numeric)"
   ]
  },
  {
   "cell_type": "markdown",
   "metadata": {},
   "source": [
    "We will now format the name of the columns by replacing the space by underscore and converting it into lowercase."
   ]
  },
  {
   "cell_type": "code",
   "execution_count": 28,
   "metadata": {},
   "outputs": [
    {
     "data": {
      "text/plain": [
       "Index(['average_temperature', 'average_humidity', 'average_dewpoint',\n",
       "       'average_barometer', 'average_windspeed', 'average_gustspeed',\n",
       "       'average_direction', 'rainfall_for_month', 'rainfall_for_year',\n",
       "       'maximum_rain_per_minute', 'maximum_temperature', 'minimum_temperature',\n",
       "       'maximum_humidity', 'minimum_humidity', 'maximum_pressure',\n",
       "       'minimum_pressure', 'maximum_windspeed', 'maximum_gust_speed',\n",
       "       'maximum_heat_index', 'date'],\n",
       "      dtype='object')"
      ]
     },
     "execution_count": 28,
     "metadata": {},
     "output_type": "execute_result"
    }
   ],
   "source": [
    "weather_data.rename(columns = lambda x: x.replace(\" \", \"_\").lower(),\n",
    "          inplace = True)\n",
    "\n",
    "# Check the column names of the dataframe\n",
    "weather_data.keys()"
   ]
  },
  {
   "cell_type": "markdown",
   "metadata": {},
   "source": [
    "Humidity is in percentage as mentioned in the website. We will hence divide each data value by 100."
   ]
  },
  {
   "cell_type": "code",
   "execution_count": 29,
   "metadata": {},
   "outputs": [],
   "source": [
    "humidity_cols = ['average_humidity', 'maximum_humidity', 'minimum_humidity']\n",
    "\n",
    "# Dividing the value by 100 to get the percentage\n",
    "weather_data[humidity_cols] = weather_data[humidity_cols].apply(lambda x: x/100)"
   ]
  },
  {
   "cell_type": "code",
   "execution_count": 30,
   "metadata": {},
   "outputs": [
    {
     "data": {
      "text/html": [
       "<div>\n",
       "<style scoped>\n",
       "    .dataframe tbody tr th:only-of-type {\n",
       "        vertical-align: middle;\n",
       "    }\n",
       "\n",
       "    .dataframe tbody tr th {\n",
       "        vertical-align: top;\n",
       "    }\n",
       "\n",
       "    .dataframe thead th {\n",
       "        text-align: right;\n",
       "    }\n",
       "</style>\n",
       "<table border=\"1\" class=\"dataframe\">\n",
       "  <thead>\n",
       "    <tr style=\"text-align: right;\">\n",
       "      <th></th>\n",
       "      <th>average_temperature</th>\n",
       "      <th>average_humidity</th>\n",
       "      <th>average_dewpoint</th>\n",
       "      <th>average_barometer</th>\n",
       "      <th>average_windspeed</th>\n",
       "      <th>average_gustspeed</th>\n",
       "      <th>average_direction</th>\n",
       "      <th>rainfall_for_month</th>\n",
       "      <th>rainfall_for_year</th>\n",
       "      <th>maximum_rain_per_minute</th>\n",
       "      <th>maximum_temperature</th>\n",
       "      <th>minimum_temperature</th>\n",
       "      <th>maximum_humidity</th>\n",
       "      <th>minimum_humidity</th>\n",
       "      <th>maximum_pressure</th>\n",
       "      <th>minimum_pressure</th>\n",
       "      <th>maximum_windspeed</th>\n",
       "      <th>maximum_gust_speed</th>\n",
       "      <th>maximum_heat_index</th>\n",
       "      <th>date</th>\n",
       "    </tr>\n",
       "  </thead>\n",
       "  <tbody>\n",
       "    <tr>\n",
       "      <th>0</th>\n",
       "      <td>57.8</td>\n",
       "      <td>0.45</td>\n",
       "      <td>33.9</td>\n",
       "      <td>29.6</td>\n",
       "      <td>5.2</td>\n",
       "      <td>8.0</td>\n",
       "      <td>238</td>\n",
       "      <td>0.00</td>\n",
       "      <td>2.40</td>\n",
       "      <td>0.00</td>\n",
       "      <td>71.8</td>\n",
       "      <td>41.5</td>\n",
       "      <td>0.83</td>\n",
       "      <td>0.19</td>\n",
       "      <td>29.724</td>\n",
       "      <td>29.515</td>\n",
       "      <td>18.4</td>\n",
       "      <td>29.9</td>\n",
       "      <td>76.6</td>\n",
       "      <td>2020-05-01</td>\n",
       "    </tr>\n",
       "    <tr>\n",
       "      <th>1</th>\n",
       "      <td>47.1</td>\n",
       "      <td>0.83</td>\n",
       "      <td>42.0</td>\n",
       "      <td>29.7</td>\n",
       "      <td>3.1</td>\n",
       "      <td>5.0</td>\n",
       "      <td>16</td>\n",
       "      <td>0.30</td>\n",
       "      <td>2.70</td>\n",
       "      <td>0.02</td>\n",
       "      <td>57.3</td>\n",
       "      <td>39.9</td>\n",
       "      <td>0.95</td>\n",
       "      <td>0.60</td>\n",
       "      <td>29.881</td>\n",
       "      <td>29.666</td>\n",
       "      <td>15.0</td>\n",
       "      <td>19.6</td>\n",
       "      <td>57.3</td>\n",
       "      <td>2020-05-02</td>\n",
       "    </tr>\n",
       "    <tr>\n",
       "      <th>2</th>\n",
       "      <td>51.6</td>\n",
       "      <td>0.59</td>\n",
       "      <td>36.4</td>\n",
       "      <td>29.7</td>\n",
       "      <td>4.9</td>\n",
       "      <td>7.5</td>\n",
       "      <td>244</td>\n",
       "      <td>0.33</td>\n",
       "      <td>2.73</td>\n",
       "      <td>0.01</td>\n",
       "      <td>65.4</td>\n",
       "      <td>36.1</td>\n",
       "      <td>0.93</td>\n",
       "      <td>0.29</td>\n",
       "      <td>29.876</td>\n",
       "      <td>29.620</td>\n",
       "      <td>19.6</td>\n",
       "      <td>26.5</td>\n",
       "      <td>65.4</td>\n",
       "      <td>2020-05-03</td>\n",
       "    </tr>\n",
       "    <tr>\n",
       "      <th>3</th>\n",
       "      <td>45.1</td>\n",
       "      <td>0.58</td>\n",
       "      <td>28.9</td>\n",
       "      <td>29.8</td>\n",
       "      <td>7.6</td>\n",
       "      <td>11.8</td>\n",
       "      <td>248</td>\n",
       "      <td>0.37</td>\n",
       "      <td>2.77</td>\n",
       "      <td>0.01</td>\n",
       "      <td>52.2</td>\n",
       "      <td>38.5</td>\n",
       "      <td>0.94</td>\n",
       "      <td>0.28</td>\n",
       "      <td>30.024</td>\n",
       "      <td>29.604</td>\n",
       "      <td>25.3</td>\n",
       "      <td>36.8</td>\n",
       "      <td>52.2</td>\n",
       "      <td>2020-05-04</td>\n",
       "    </tr>\n",
       "    <tr>\n",
       "      <th>4</th>\n",
       "      <td>48.7</td>\n",
       "      <td>0.24</td>\n",
       "      <td>12.2</td>\n",
       "      <td>30.0</td>\n",
       "      <td>6.3</td>\n",
       "      <td>9.7</td>\n",
       "      <td>241</td>\n",
       "      <td>0.37</td>\n",
       "      <td>2.77</td>\n",
       "      <td>0.00</td>\n",
       "      <td>62.3</td>\n",
       "      <td>37.9</td>\n",
       "      <td>0.50</td>\n",
       "      <td>0.12</td>\n",
       "      <td>30.128</td>\n",
       "      <td>29.942</td>\n",
       "      <td>18.4</td>\n",
       "      <td>26.5</td>\n",
       "      <td>62.3</td>\n",
       "      <td>2020-05-05</td>\n",
       "    </tr>\n",
       "  </tbody>\n",
       "</table>\n",
       "</div>"
      ],
      "text/plain": [
       "   average_temperature  average_humidity  average_dewpoint  average_barometer  \\\n",
       "0                 57.8              0.45              33.9               29.6   \n",
       "1                 47.1              0.83              42.0               29.7   \n",
       "2                 51.6              0.59              36.4               29.7   \n",
       "3                 45.1              0.58              28.9               29.8   \n",
       "4                 48.7              0.24              12.2               30.0   \n",
       "\n",
       "   average_windspeed  average_gustspeed  average_direction  \\\n",
       "0                5.2                8.0                238   \n",
       "1                3.1                5.0                 16   \n",
       "2                4.9                7.5                244   \n",
       "3                7.6               11.8                248   \n",
       "4                6.3                9.7                241   \n",
       "\n",
       "   rainfall_for_month  rainfall_for_year  maximum_rain_per_minute  \\\n",
       "0                0.00               2.40                     0.00   \n",
       "1                0.30               2.70                     0.02   \n",
       "2                0.33               2.73                     0.01   \n",
       "3                0.37               2.77                     0.01   \n",
       "4                0.37               2.77                     0.00   \n",
       "\n",
       "   maximum_temperature  minimum_temperature  maximum_humidity  \\\n",
       "0                 71.8                 41.5              0.83   \n",
       "1                 57.3                 39.9              0.95   \n",
       "2                 65.4                 36.1              0.93   \n",
       "3                 52.2                 38.5              0.94   \n",
       "4                 62.3                 37.9              0.50   \n",
       "\n",
       "   minimum_humidity  maximum_pressure  minimum_pressure  maximum_windspeed  \\\n",
       "0              0.19            29.724            29.515               18.4   \n",
       "1              0.60            29.881            29.666               15.0   \n",
       "2              0.29            29.876            29.620               19.6   \n",
       "3              0.28            30.024            29.604               25.3   \n",
       "4              0.12            30.128            29.942               18.4   \n",
       "\n",
       "   maximum_gust_speed  maximum_heat_index       date  \n",
       "0                29.9                76.6 2020-05-01  \n",
       "1                19.6                57.3 2020-05-02  \n",
       "2                26.5                65.4 2020-05-03  \n",
       "3                36.8                52.2 2020-05-04  \n",
       "4                26.5                62.3 2020-05-05  "
      ]
     },
     "execution_count": 30,
     "metadata": {},
     "output_type": "execute_result"
    }
   ],
   "source": [
    "# data after division\n",
    "weather_data.head()"
   ]
  },
  {
   "cell_type": "markdown",
   "metadata": {},
   "source": [
    "#### Saving data as a csv\n",
    "\n",
    "The dataframe can be saved as csv using the [`to_csv()`](https://pandas.pydata.org/pandas-docs/stable/reference/api/pandas.DataFrame.to_csv.html) function of the Pandas dataframe."
   ]
  },
  {
   "cell_type": "code",
   "execution_count": 31,
   "metadata": {},
   "outputs": [],
   "source": [
    "weather_data.to_csv(\"data/weather_data.csv\", index=False)"
   ]
  },
  {
   "cell_type": "markdown",
   "metadata": {},
   "source": [
    "# The ETL Process - Load (L)"
   ]
  },
  {
   "cell_type": "markdown",
   "metadata": {},
   "source": [
    "The final step in the ETL (Extract-Transform-Load) process is to load the data into a data warehouse (database). We will learn how to do so by using the SQLite library in Python."
   ]
  },
  {
   "cell_type": "markdown",
   "metadata": {},
   "source": [
    "We can install the SQLite library using the Python package manager by using the following command."
   ]
  },
  {
   "cell_type": "code",
   "execution_count": 33,
   "metadata": {
    "scrolled": true
   },
   "outputs": [],
   "source": [
    "# !pip install db-sqlite3"
   ]
  },
  {
   "cell_type": "markdown",
   "metadata": {},
   "source": [
    "To import sqlite in Python, just write the following code and run it."
   ]
  },
  {
   "cell_type": "code",
   "execution_count": 34,
   "metadata": {},
   "outputs": [],
   "source": [
    "import sqlite3"
   ]
  },
  {
   "cell_type": "markdown",
   "metadata": {},
   "source": [
    "In order to create the database, we will first need to open a connection using the connect() function of the [sqlite](https://docs.python.org/2/library/sqlite3.html) module.\n",
    "\n",
    "**Note:** Make sure a directory named \"data\" exists in your working directory."
   ]
  },
  {
   "cell_type": "code",
   "execution_count": 36,
   "metadata": {
    "scrolled": true
   },
   "outputs": [
    {
     "name": "stdout",
     "output_type": "stream",
     "text": [
      "Database connection opened.\n"
     ]
    }
   ],
   "source": [
    "# connect function opens a connection to the SQLite database file \n",
    "conn = sqlite3.connect('data/weather_data.db')\n",
    "print(\"Database connection opened.\")"
   ]
  },
  {
   "cell_type": "markdown",
   "metadata": {},
   "source": [
    "## Creating a table \n",
    "\n",
    "In order to create a table, we will be using the execute() function with the SQL command `CREATE` as follows."
   ]
  },
  {
   "cell_type": "code",
   "execution_count": 37,
   "metadata": {},
   "outputs": [
    {
     "name": "stdout",
     "output_type": "stream",
     "text": [
      "Weather table has been created successfully\n"
     ]
    }
   ],
   "source": [
    "# Create a new Table named as Weather with the columns\n",
    "try:\n",
    "    conn.execute('''\n",
    "        CREATE TABLE Weather\n",
    "        (\n",
    "        average_temperature         Float DEFAULT 0,\n",
    "        average_humidity            Float DEFAULT 0,\n",
    "        average_dewpoint            Float DEFAULT 0,\n",
    "        average_barometer           Float DEFAULT 0,\n",
    "        average_windspeed           Float DEFAULT 0,\n",
    "        average_gustspeed           Float DEFAULT 0,\n",
    "        average_direction           Float DEFAULT 0,\n",
    "        rainfall_for_month          Float DEFAULT 0, \n",
    "        rainfall_for_year           Float DEFAULT 0, \n",
    "        maximum_rain_per_minute     Float DEFAULT 0, \n",
    "        maximum_temperature         Float DEFAULT 0,\n",
    "        minimum_temperature         Float DEFAULT 0, \n",
    "        maximum_humidity            Float DEFAULT 0, \n",
    "        minimum_humidity            Float DEFAULT 0, \n",
    "        maximum_pressure            Float DEFAULT 0, \n",
    "        minimum_pressure            Float DEFAULT 0,\n",
    "        maximum_windspeed           Float DEFAULT 0, \n",
    "        maximum_gust_speed          Float DEFAULT 0, \n",
    "        maximum_heat_index          Float DEFAULT 0, \n",
    "        date                        timestamp);''')\n",
    "    \n",
    "    print (\"Weather table has been created successfully\");\n",
    "    \n",
    "except Exception as e:\n",
    "    # Print the exception error message\n",
    "    print(str(e))\n",
    "    print('Table Creation Failed.')\n",
    "    \n",
    "finally:\n",
    "    # Finally close the database connection\n",
    "    conn.close() "
   ]
  },
  {
   "cell_type": "markdown",
   "metadata": {},
   "source": [
    "We will now get the values of the dataframe as a list to insert them into the database."
   ]
  },
  {
   "cell_type": "code",
   "execution_count": 38,
   "metadata": {},
   "outputs": [],
   "source": [
    "# Convert pandas dataframe to list of list\n",
    "weather_data_list = weather_data.astype('str').values.tolist()"
   ]
  },
  {
   "cell_type": "markdown",
   "metadata": {},
   "source": [
    "Let us first initiate a new connection to the database."
   ]
  },
  {
   "cell_type": "code",
   "execution_count": 39,
   "metadata": {},
   "outputs": [],
   "source": [
    "# Make new connection to Insert data in SQL DB\n",
    "conn = sqlite3.connect('data/weather_data.db')"
   ]
  },
  {
   "cell_type": "markdown",
   "metadata": {},
   "source": [
    "We will then create a cursor from the connection to use it for querying the database."
   ]
  },
  {
   "cell_type": "code",
   "execution_count": 40,
   "metadata": {},
   "outputs": [],
   "source": [
    "# Make a cursor for querying SQL database\n",
    "cur = conn.cursor()"
   ]
  },
  {
   "cell_type": "markdown",
   "metadata": {},
   "source": [
    "## Insert values from list to the database\n",
    "\n",
    "We will now insert the list into the database using the SQL command `INSERT`."
   ]
  },
  {
   "cell_type": "code",
   "execution_count": 41,
   "metadata": {},
   "outputs": [
    {
     "name": "stdout",
     "output_type": "stream",
     "text": [
      "Weather Data Inserted Successfully\n"
     ]
    }
   ],
   "source": [
    "try:\n",
    "    # will use ? sign to represent each column names inside VALUE().\n",
    "    cur.executemany(\"INSERT INTO Weather(average_temperature, average_humidity, average_dewpoint,\\\n",
    "                    average_barometer, average_windspeed, average_gustspeed, average_direction,\\\n",
    "                    rainfall_for_month, rainfall_for_year, maximum_rain_per_minute, maximum_temperature,\\\n",
    "                    minimum_temperature, maximum_humidity, minimum_humidity, maximum_pressure, minimum_pressure,\\\n",
    "                    maximum_windspeed, maximum_gust_speed, maximum_heat_index, date) VALUES (?,?,?,?,?,?,?,?,?,?,?,?,?,?,?,?,?,?,?,?)\", weather_data_list)\n",
    "    conn.commit()\n",
    "    print('Weather Data Inserted Successfully')\n",
    "    \n",
    "except Exception as e:\n",
    "    # Print the exception error message\n",
    "    print(str(e))\n",
    "    print('Weather Data Insertion Failed')\n",
    "    \n",
    "finally:\n",
    "    # finally close the database connection\n",
    "    conn.close()"
   ]
  },
  {
   "cell_type": "markdown",
   "metadata": {},
   "source": [
    "We can see that the data has been inserted successfully which can be viewed through the [DB Browser for Sqlite](https://sqlitebrowser.org/dl/)."
   ]
  },
  {
   "cell_type": "markdown",
   "metadata": {},
   "source": [
    "<img src=\"images/weather_database.PNG\">"
   ]
  },
  {
   "cell_type": "markdown",
   "metadata": {},
   "source": [
    "We have successfully loaded our extracted data onto a database. \n",
    "\n",
    "#### With this, we conclude our lesson on the ETL process."
   ]
  }
 ],
 "metadata": {
  "kernelspec": {
   "display_name": "Python 3",
   "language": "python",
   "name": "python3"
  },
  "language_info": {
   "codemirror_mode": {
    "name": "ipython",
    "version": 3
   },
   "file_extension": ".py",
   "mimetype": "text/x-python",
   "name": "python",
   "nbconvert_exporter": "python",
   "pygments_lexer": "ipython3",
   "version": "3.8.3"
  }
 },
 "nbformat": 4,
 "nbformat_minor": 4
}
